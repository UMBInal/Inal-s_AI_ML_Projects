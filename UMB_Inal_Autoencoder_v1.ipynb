{
  "nbformat": 4,
  "nbformat_minor": 0,
  "metadata": {
    "colab": {
      "provenance": []
    },
    "kernelspec": {
      "name": "python3",
      "display_name": "Python 3"
    },
    "language_info": {
      "name": "python"
    }
  },
  "cells": [
    {
      "cell_type": "code",
      "source": [
        "import tensorflow as tf\n",
        "import numpy as np\n",
        "import matplotlib.pyplot as plt\n",
        "import pandas as pd"
      ],
      "metadata": {
        "id": "b23gL_D9GEMx"
      },
      "execution_count": null,
      "outputs": []
    },
    {
      "cell_type": "code",
      "source": [
        "(x_train, y_train), (x_test, y_test) = tf.keras.datasets.mnist.load_data()"
      ],
      "metadata": {
        "id": "s4Ad5wWLGLOo"
      },
      "execution_count": null,
      "outputs": []
    },
    {
      "cell_type": "code",
      "source": [
        "print(x_train.shape)\n",
        "print(x_test.shape)\n",
        "print(y_train.shape)\n",
        "print(y_test.shape)"
      ],
      "metadata": {
        "colab": {
          "base_uri": "https://localhost:8080/"
        },
        "id": "AbyX5hmjGPco",
        "outputId": "a4e8fb6b-041e-48a7-a49a-ebc1f8f83c23"
      },
      "execution_count": null,
      "outputs": [
        {
          "output_type": "stream",
          "name": "stdout",
          "text": [
            "(60000, 28, 28)\n",
            "(10000, 28, 28)\n",
            "(60000,)\n",
            "(10000,)\n"
          ]
        }
      ]
    },
    {
      "cell_type": "code",
      "source": [
        "plt.imshow(x_train[0], cmap = 'binary')\n",
        "plt.show()"
      ],
      "metadata": {
        "colab": {
          "base_uri": "https://localhost:8080/",
          "height": 430
        },
        "id": "iIzKGMdgGfdh",
        "outputId": "a1053c17-0404-4847-d823-b21acb1c4877"
      },
      "execution_count": null,
      "outputs": [
        {
          "output_type": "display_data",
          "data": {
            "text/plain": [
              "<Figure size 640x480 with 1 Axes>"
            ],
            "image/png": "[encoded data removed]"
          },
          "metadata": {}
        }
      ]
    },
    {
      "cell_type": "code",
      "source": [
        "x_train = x_train/ 255\n",
        "x_test = x_test/ 255"
      ],
      "metadata": {
        "id": "Jdj64O79LbUw"
      },
      "execution_count": null,
      "outputs": []
    },
    {
      "cell_type": "code",
      "source": [
        "print(np.max(x_train[0]))"
      ],
      "metadata": {
        "colab": {
          "base_uri": "https://localhost:8080/"
        },
        "id": "vcwqyr8BLmEQ",
        "outputId": "6441508e-68be-4f70-94b7-b94cc9f51b72"
      },
      "execution_count": null,
      "outputs": [
        {
          "output_type": "stream",
          "name": "stdout",
          "text": [
            "1.0\n"
          ]
        }
      ]
    },
    {
      "cell_type": "code",
      "source": [
        "print(x_train[0].shape)"
      ],
      "metadata": {
        "colab": {
          "base_uri": "https://localhost:8080/"
        },
        "id": "ZwA04UNxL_05",
        "outputId": "c56e69cf-8fbf-403e-8a5e-be3e33824417"
      },
      "execution_count": null,
      "outputs": [
        {
          "output_type": "stream",
          "name": "stdout",
          "text": [
            "(28, 28)\n"
          ]
        }
      ]
    },
    {
      "cell_type": "code",
      "source": [
        "x_train = x_train.reshape(x_train.shape[0], x_train.shape[1], x_train.shape[2], 1)\n",
        "x_test = x_test.reshape(x_test.shape[0], x_test.shape[1], x_test.shape[2], 1)"
      ],
      "metadata": {
        "id": "_wLH9jg7MDFB"
      },
      "execution_count": null,
      "outputs": []
    },
    {
      "cell_type": "code",
      "source": [
        "# Autoencoder model:\n",
        "\n",
        "class Autoencoder(tf.keras.Model):\n",
        "    def __init__(self, latent_dim, n_neurons, enc_layers, dec_layers):\n",
        "        super(Autoencoder, self).__init__()\n",
        "        self.latent_dim = latent_dim\n",
        "        self.n_neurons = n_neurons\n",
        "\n",
        "        # Bottleneck issue check\n",
        "        if not (latent_dim * 4 <= n_neurons <= latent_dim * 8):\n",
        "            raise Exception(\"Bottleneck issue, reassign the number of neurons!\")\n",
        "\n",
        "        self.flatten = tf.keras.layers.Flatten()\n",
        "\n",
        "        # Encoder layers\n",
        "        self.encoder_layers = []\n",
        "        for _ in range(enc_layers):\n",
        "            self.encoder_layers.append(tf.keras.layers.Dense(n_neurons, activation='relu'))\n",
        "\n",
        "        # Bottleneck layers\n",
        "        self.bottleneck1 = tf.keras.layers.Dense(latent_dim * 4, activation='relu')\n",
        "        self.bottleneck2 = tf.keras.layers.Dense(latent_dim * 2, activation='relu')\n",
        "        self.latent = tf.keras.layers.Dense(latent_dim, activation='relu')\n",
        "\n",
        "        # Decoder layers\n",
        "        self.decoder_layers = []\n",
        "        for _ in range(dec_layers):\n",
        "            self.decoder_layers.append(tf.keras.layers.Dense(n_neurons, activation='relu'))\n",
        "\n",
        "        # Output layer\n",
        "        self.output_layer = tf.keras.layers.Dense(28 * 28, activation='sigmoid')\n",
        "        self.reshape_layer = tf.keras.layers.Reshape((28, 28, 1))\n",
        "\n",
        "    def call(self, inputs):\n",
        "        x = self.flatten(inputs)\n",
        "\n",
        "        # Pass through encoder layers\n",
        "        for layer in self.encoder_layers:\n",
        "            x = layer(x)\n",
        "\n",
        "        # Bottleneck\n",
        "        x = self.bottleneck1(x)\n",
        "        x = self.bottleneck2(x)\n",
        "        x = self.latent(x)\n",
        "\n",
        "        # Pass through decoder layers\n",
        "        for layer in self.decoder_layers:\n",
        "            x = layer(x)\n",
        "\n",
        "        # Output layer and reshape to original input dimensions\n",
        "        x = self.output_layer(x)\n",
        "        x = self.reshape_layer(x)\n",
        "\n",
        "        return x"
      ],
      "metadata": {
        "id": "O4O2flj_GqMJ"
      },
      "execution_count": null,
      "outputs": []
    },
    {
      "cell_type": "code",
      "source": [
        "# Example Usage:\n",
        "model = Autoencoder(latent_dim=32, n_neurons=128, enc_layers=2, dec_layers=2)\n",
        "#model.build(input_shape=(None, 28, 28, 1))\n",
        "#model.summary()"
      ],
      "metadata": {
        "id": "x3-H9xGDTd07"
      },
      "execution_count": null,
      "outputs": []
    },
    {
      "cell_type": "code",
      "source": [
        "model.compile(optimizer = 'adam', loss = 'mse')"
      ],
      "metadata": {
        "id": "SwjwAwRtPtBL"
      },
      "execution_count": null,
      "outputs": []
    },
    {
      "cell_type": "code",
      "source": [
        "model.fit(x_train, x_train, epochs = 10, batch_size = 32, validation_data= (x_test, x_test))"
      ],
      "metadata": {
        "colab": {
          "base_uri": "https://localhost:8080/"
        },
        "id": "FE0spz0jP5nT",
        "outputId": "a232401b-ebf4-4bd1-8282-29fce60bfd57"
      },
      "execution_count": null,
      "outputs": [
        {
          "output_type": "stream",
          "name": "stdout",
          "text": [
            "Epoch 1/10\n",
            "\u001b[1m1875/1875\u001b[0m \u001b[32m━━━━━━━━━━━━━━━━━━━━\u001b[0m\u001b[37m\u001b[0m \u001b[1m17s\u001b[0m 7ms/step - loss: 0.0536 - val_loss: 0.0208\n",
            "Epoch 2/10\n",
            "\u001b[1m1875/1875\u001b[0m \u001b[32m━━━━━━━━━━━━━━━━━━━━\u001b[0m\u001b[37m\u001b[0m \u001b[1m20s\u001b[0m 8ms/step - loss: 0.0197 - val_loss: 0.0162\n",
            "Epoch 3/10\n",
            "\u001b[1m1875/1875\u001b[0m \u001b[32m━━━━━━━━━━━━━━━━━━━━\u001b[0m\u001b[37m\u001b[0m \u001b[1m14s\u001b[0m 7ms/step - loss: 0.0158 - val_loss: 0.0141\n",
            "Epoch 4/10\n",
            "\u001b[1m1875/1875\u001b[0m \u001b[32m━━━━━━━━━━━━━━━━━━━━\u001b[0m\u001b[37m\u001b[0m \u001b[1m21s\u001b[0m 7ms/step - loss: 0.0138 - val_loss: 0.0123\n",
            "Epoch 5/10\n",
            "\u001b[1m1875/1875\u001b[0m \u001b[32m━━━━━━━━━━━━━━━━━━━━\u001b[0m\u001b[37m\u001b[0m \u001b[1m14s\u001b[0m 7ms/step - loss: 0.0125 - val_loss: 0.0115\n",
            "Epoch 6/10\n",
            "\u001b[1m1875/1875\u001b[0m \u001b[32m━━━━━━━━━━━━━━━━━━━━\u001b[0m\u001b[37m\u001b[0m \u001b[1m20s\u001b[0m 7ms/step - loss: 0.0115 - val_loss: 0.0106\n",
            "Epoch 7/10\n",
            "\u001b[1m1875/1875\u001b[0m \u001b[32m━━━━━━━━━━━━━━━━━━━━\u001b[0m\u001b[37m\u001b[0m \u001b[1m14s\u001b[0m 7ms/step - loss: 0.0108 - val_loss: 0.0101\n",
            "Epoch 8/10\n",
            "\u001b[1m1875/1875\u001b[0m \u001b[32m━━━━━━━━━━━━━━━━━━━━\u001b[0m\u001b[37m\u001b[0m \u001b[1m14s\u001b[0m 7ms/step - loss: 0.0103 - val_loss: 0.0099\n",
            "Epoch 9/10\n",
            "\u001b[1m1875/1875\u001b[0m \u001b[32m━━━━━━━━━━━━━━━━━━━━\u001b[0m\u001b[37m\u001b[0m \u001b[1m14s\u001b[0m 7ms/step - loss: 0.0099 - val_loss: 0.0101\n",
            "Epoch 10/10\n",
            "\u001b[1m1875/1875\u001b[0m \u001b[32m━━━━━━━━━━━━━━━━━━━━\u001b[0m\u001b[37m\u001b[0m \u001b[1m20s\u001b[0m 7ms/step - loss: 0.0096 - val_loss: 0.0092\n"
          ]
        },
        {
          "output_type": "execute_result",
          "data": {
            "text/plain": [
              "<keras.src.callbacks.history.History at 0x7b8873f44970>"
            ]
          },
          "metadata": {},
          "execution_count": 49
        }
      ]
    },
    {
      "cell_type": "code",
      "source": [
        "# evaluating the results:\n",
        "predictions = model.predict(x_test)"
      ],
      "metadata": {
        "colab": {
          "base_uri": "https://localhost:8080/"
        },
        "id": "4aAjoyN_UPsd",
        "outputId": "bcab4246-0512-4008-a6ac-57e28ee532a9"
      },
      "execution_count": null,
      "outputs": [
        {
          "output_type": "stream",
          "name": "stdout",
          "text": [
            "\u001b[1m313/313\u001b[0m \u001b[32m━━━━━━━━━━━━━━━━━━━━\u001b[0m\u001b[37m\u001b[0m \u001b[1m2s\u001b[0m 5ms/step\n"
          ]
        }
      ]
    },
    {
      "cell_type": "code",
      "source": [
        "# Generating and comparing images\n",
        "fig, axes = plt.subplots(2, 6, figsize=(10, 5))\n",
        "\n",
        "# Plot reconstructed images\n",
        "for i in range(6):\n",
        "    axes[0, i].imshow(predictions[i].squeeze(), cmap='binary')\n",
        "    axes[0, i].set_title(f\"Reconstructed {i+1}\")\n",
        "#    axes[0, i].axis('off')  # Hide axes\n",
        "\n",
        "# Plot original images\n",
        "for i in range(6):\n",
        "    axes[1, i].imshow(x_test[i].squeeze(), cmap='binary')\n",
        "    axes[1, i].set_title(f\"Original {i+1}\")\n",
        "#    axes[1, i].axis('off')  # Hide axes\n",
        "\n",
        "# Show the plot\n",
        "plt.tight_layout()\n",
        "plt.show()"
      ],
      "metadata": {
        "colab": {
          "base_uri": "https://localhost:8080/",
          "height": 438
        },
        "id": "ZyFwyeJUUV42",
        "outputId": "22503f78-85da-4c39-8809-faf2aff490da"
      },
      "execution_count": null,
      "outputs": [
        {
          "output_type": "display_data",
          "data": {
            "text/plain": [
              "<Figure size 1000x500 with 12 Axes>"
            ],
            "image/png": "[encoded data removed]"
          },
          "metadata": {}
        }
      ]
    }
  ]
}