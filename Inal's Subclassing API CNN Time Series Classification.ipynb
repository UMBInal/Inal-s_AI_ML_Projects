{
  "nbformat": 4,
  "nbformat_minor": 0,
  "metadata": {
    "colab": {
      "provenance": [],
      "gpuType": "T4"
    },
    "kernelspec": {
      "name": "python3",
      "display_name": "Python 3"
    },
    "language_info": {
      "name": "python"
    },
    "accelerator": "GPU"
  },
  "cells": [
    {
      "cell_type": "code",
      "execution_count": 1,
      "metadata": {
        "id": "u9SXYi4j1glB"
      },
      "outputs": [],
      "source": [
        "import tensorflow as tf\n",
        "import numpy as np\n",
        "import pandas as pd\n",
        "import matplotlib.pyplot as plt\n",
        "from tensorflow import keras\n",
        "from sklearn.model_selection import train_test_split\n",
        "from keras.models import Model"
      ]
    },
    {
      "cell_type": "code",
      "source": [
        "def read_data(path):\n",
        "  data = pd.read_csv(path)\n",
        "  features = data.iloc[:,:-1].values\n",
        "  labels = data.iloc[:,-1] - 1\n",
        "  return features, labels\n"
      ],
      "metadata": {
        "id": "bRkTRj2222Z5"
      },
      "execution_count": 2,
      "outputs": []
    },
    {
      "cell_type": "code",
      "source": [
        "path = 'https://raw.githubusercontent.com/UMBInal/data/main/data2.csv'\n",
        "\n",
        "x, y = read_data(path)"
      ],
      "metadata": {
        "id": "HfIe2huX3Fa5"
      },
      "execution_count": 3,
      "outputs": []
    },
    {
      "cell_type": "code",
      "source": [
        "x_train, x_test, y_train, y_test = train_test_split(x,y, test_size = 0.2, random_state=42)\n",
        "x_train, x_val, y_train, y_val = train_test_split(x_train,y_train, test_size= 0.1, random_state=42)"
      ],
      "metadata": {
        "id": "Czyg8d-U3ppp"
      },
      "execution_count": 4,
      "outputs": []
    },
    {
      "cell_type": "code",
      "source": [
        "x_train = x_train.reshape((x_train.shape[0], x_train.shape[1], 1))\n",
        "x_test = x_test.reshape((x_test.shape[0], x_test.shape[1],1))\n",
        "x_val = x_val.reshape((x_val.shape[0], x_val.shape[1],1))"
      ],
      "metadata": {
        "id": "RQJUPvJw4K-E"
      },
      "execution_count": 6,
      "outputs": []
    },
    {
      "cell_type": "code",
      "source": [
        "n_classes = len(np.unique(y))\n",
        "n_classes"
      ],
      "metadata": {
        "colab": {
          "base_uri": "https://localhost:8080/"
        },
        "id": "iA3TGm_c4zr6",
        "outputId": "ee76a059-ca0f-4f10-f55b-68d994233459"
      },
      "execution_count": 7,
      "outputs": [
        {
          "output_type": "execute_result",
          "data": {
            "text/plain": [
              "5"
            ]
          },
          "metadata": {},
          "execution_count": 7
        }
      ]
    },
    {
      "cell_type": "code",
      "source": [
        "class CNN(Model):\n",
        "\n",
        "  def __init__(self, n_neurons, n_classes, dropout):\n",
        "    super(CNN, self).__init__()\n",
        "    self.n_neurons = n_neurons\n",
        "    self.n_classes = n_classes\n",
        "    self.dropout = dropout\n",
        "\n",
        "    self.conv1 = keras.layers.Conv1D(filters = 32, kernel_size = 2, input_shape = x_train[1:], use_bias = True, activation = 'relu')\n",
        "    self.maxpool1 = keras.layers.MaxPool1D(pool_size=2)\n",
        "    self.dense1 = keras.layers.Dense(n_neurons, activation = 'relu')\n",
        "    self.dropout1 = keras.layers.Dropout(dropout)\n",
        "    self.dense2 = keras.layers.Dense(n_neurons, activation = 'relu')\n",
        "    self.dropout2 = keras.layers.Dropout(dropout)\n",
        "    self.softmax = keras.layers.Dense(n_classes, activation = 'softmax')\n",
        "\n",
        "  def call(self, inputs):\n",
        "    x = self.conv1(inputs)\n",
        "    x = self.maxpool1(x)\n",
        "    x = tf.keras.layers.Flatten()(x)\n",
        "    x = self.dense1(x)\n",
        "    x = self.dropout1(x)\n",
        "    x = self.dense2(x)\n",
        "    x = self.dropout2(x)\n",
        "    return self.softmax(x)"
      ],
      "metadata": {
        "id": "9CKnfcip4_-L"
      },
      "execution_count": 8,
      "outputs": []
    },
    {
      "cell_type": "code",
      "source": [
        "model = CNN(64, n_classes, 0.10)"
      ],
      "metadata": {
        "id": "KyuGhX3WDzwv"
      },
      "execution_count": 9,
      "outputs": []
    },
    {
      "cell_type": "code",
      "source": [
        "model.compile(optimizer = 'adam', loss = 'sparse_categorical_crossentropy', metrics = ['accuracy'])"
      ],
      "metadata": {
        "id": "g3gqpWT4EtUq"
      },
      "execution_count": 10,
      "outputs": []
    },
    {
      "cell_type": "code",
      "source": [
        "# Enable eager execution for debugging\n",
        "tf.config.run_functions_eagerly(True)"
      ],
      "metadata": {
        "id": "4AIPTOPTH7LR"
      },
      "execution_count": 11,
      "outputs": []
    },
    {
      "cell_type": "code",
      "source": [
        "model.fit(x_train, y_train, epochs = 10, batch_size= 32, validation_data=(x_val, y_val))"
      ],
      "metadata": {
        "colab": {
          "base_uri": "https://localhost:8080/"
        },
        "id": "xLxas3EpFDMI",
        "outputId": "ebf1f341-dc7a-49f6-8e83-0cac583d343b"
      },
      "execution_count": 12,
      "outputs": [
        {
          "output_type": "stream",
          "name": "stdout",
          "text": [
            "Epoch 1/10\n"
          ]
        },
        {
          "output_type": "stream",
          "name": "stderr",
          "text": [
            "/usr/local/lib/python3.10/dist-packages/tensorflow/python/data/ops/structured_function.py:258: UserWarning: Even though the `tf.config.experimental_run_functions_eagerly` option is set, this option does not apply to tf.data functions. To force eager execution of tf.data functions, please use `tf.data.experimental.enable_debug_mode()`.\n",
            "  warnings.warn(\n"
          ]
        },
        {
          "output_type": "stream",
          "name": "stdout",
          "text": [
            "826/826 [==============================] - 44s 53ms/step - loss: 0.3495 - accuracy: 0.8771 - val_loss: 0.2457 - val_accuracy: 0.9052\n",
            "Epoch 2/10\n",
            "826/826 [==============================] - 44s 53ms/step - loss: 0.2443 - accuracy: 0.9039 - val_loss: 0.2240 - val_accuracy: 0.9127\n",
            "Epoch 3/10\n",
            "826/826 [==============================] - 42s 50ms/step - loss: 0.2218 - accuracy: 0.9143 - val_loss: 0.2146 - val_accuracy: 0.9100\n",
            "Epoch 4/10\n",
            "826/826 [==============================] - 42s 51ms/step - loss: 0.2139 - accuracy: 0.9181 - val_loss: 0.2112 - val_accuracy: 0.9093\n",
            "Epoch 5/10\n",
            "826/826 [==============================] - 42s 50ms/step - loss: 0.2045 - accuracy: 0.9221 - val_loss: 0.1980 - val_accuracy: 0.9206\n",
            "Epoch 6/10\n",
            "826/826 [==============================] - 40s 49ms/step - loss: 0.1941 - accuracy: 0.9259 - val_loss: 0.1934 - val_accuracy: 0.9196\n",
            "Epoch 7/10\n",
            "826/826 [==============================] - 43s 52ms/step - loss: 0.1900 - accuracy: 0.9269 - val_loss: 0.1952 - val_accuracy: 0.9134\n",
            "Epoch 8/10\n",
            "826/826 [==============================] - 41s 50ms/step - loss: 0.1836 - accuracy: 0.9274 - val_loss: 0.1844 - val_accuracy: 0.9219\n",
            "Epoch 9/10\n",
            "826/826 [==============================] - 42s 51ms/step - loss: 0.1777 - accuracy: 0.9297 - val_loss: 0.1745 - val_accuracy: 0.9260\n",
            "Epoch 10/10\n",
            "826/826 [==============================] - 43s 52ms/step - loss: 0.1742 - accuracy: 0.9306 - val_loss: 0.1856 - val_accuracy: 0.9199\n"
          ]
        },
        {
          "output_type": "execute_result",
          "data": {
            "text/plain": [
              "<keras.src.callbacks.History at 0x7be03402dd50>"
            ]
          },
          "metadata": {},
          "execution_count": 12
        }
      ]
    },
    {
      "cell_type": "code",
      "source": [
        "test_loss, test_accuracy = model.evaluate(x_test,y_test)\n",
        "print(f'Test loss: {test_loss}, Test accuracy: {test_accuracy}')"
      ],
      "metadata": {
        "colab": {
          "base_uri": "https://localhost:8080/"
        },
        "id": "phwHrhHpPF5q",
        "outputId": "26614d3b-108d-4552-8095-8e4b9a416df1"
      },
      "execution_count": 17,
      "outputs": [
        {
          "output_type": "stream",
          "name": "stdout",
          "text": [
            "230/230 [==============================] - 5s 23ms/step - loss: 0.1816 - accuracy: 0.9283\n",
            "Test loss: 0.18156562745571136, Test accuracy: 0.9282792210578918\n"
          ]
        }
      ]
    }
  ]
}
